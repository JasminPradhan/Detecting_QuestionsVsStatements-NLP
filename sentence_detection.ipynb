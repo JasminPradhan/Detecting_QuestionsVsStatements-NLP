{
 "cells": [
  {
   "cell_type": "code",
   "execution_count": 1,
   "id": "f65c97cc-ae6a-4c09-aa9c-13cc09819580",
   "metadata": {},
   "outputs": [],
   "source": [
    "import numpy as np \n",
    "import pandas as pd\n",
    "from sklearn.model_selection import train_test_split\n",
    "from sklearn.feature_extraction.text import TfidfVectorizer\n",
    "from sklearn.linear_model import LogisticRegression\n",
    "from sklearn.metrics import accuracy_score\n",
    "from sklearn import preprocessing"
   ]
  },
  {
   "cell_type": "code",
   "execution_count": 2,
   "id": "035582a3-02ff-4500-a98d-84b7303d8240",
   "metadata": {},
   "outputs": [],
   "source": [
    "sentence = pd.read_csv('./data.csv')"
   ]
  },
  {
   "cell_type": "code",
   "execution_count": 3,
   "id": "1913830e-9599-46ba-a38c-511970d81f26",
   "metadata": {},
   "outputs": [
    {
     "data": {
      "text/html": [
       "<div>\n",
       "<style scoped>\n",
       "    .dataframe tbody tr th:only-of-type {\n",
       "        vertical-align: middle;\n",
       "    }\n",
       "\n",
       "    .dataframe tbody tr th {\n",
       "        vertical-align: top;\n",
       "    }\n",
       "\n",
       "    .dataframe thead th {\n",
       "        text-align: right;\n",
       "    }\n",
       "</style>\n",
       "<table border=\"1\" class=\"dataframe\">\n",
       "  <thead>\n",
       "    <tr style=\"text-align: right;\">\n",
       "      <th></th>\n",
       "      <th>sentence</th>\n",
       "      <th>label</th>\n",
       "    </tr>\n",
       "  </thead>\n",
       "  <tbody>\n",
       "    <tr>\n",
       "      <th>0</th>\n",
       "      <td>Over 90% of the world's population has access ...</td>\n",
       "      <td>question</td>\n",
       "    </tr>\n",
       "    <tr>\n",
       "      <th>1</th>\n",
       "      <td>The Mona Lisa is one of the most famous painti...</td>\n",
       "      <td>question</td>\n",
       "    </tr>\n",
       "    <tr>\n",
       "      <th>2</th>\n",
       "      <td>The human genome contains over 3 billion base ...</td>\n",
       "      <td>question</td>\n",
       "    </tr>\n",
       "    <tr>\n",
       "      <th>3</th>\n",
       "      <td>The average person spends 6 months of their li...</td>\n",
       "      <td>question</td>\n",
       "    </tr>\n",
       "    <tr>\n",
       "      <th>4</th>\n",
       "      <td>Over 90% of the world's trade is conducted thr...</td>\n",
       "      <td>question</td>\n",
       "    </tr>\n",
       "    <tr>\n",
       "      <th>...</th>\n",
       "      <td>...</td>\n",
       "      <td>...</td>\n",
       "    </tr>\n",
       "    <tr>\n",
       "      <th>190438</th>\n",
       "      <td>Federal courts are solely creatures of the fe...</td>\n",
       "      <td>non-question</td>\n",
       "    </tr>\n",
       "    <tr>\n",
       "      <th>190439</th>\n",
       "      <td>More than 440 blocos operate in Rio</td>\n",
       "      <td>non-question</td>\n",
       "    </tr>\n",
       "    <tr>\n",
       "      <th>190440</th>\n",
       "      <td>Although they were used only for instructiona...</td>\n",
       "      <td>non-question</td>\n",
       "    </tr>\n",
       "    <tr>\n",
       "      <th>190441</th>\n",
       "      <td>8% of the population, while 68.</td>\n",
       "      <td>non-question</td>\n",
       "    </tr>\n",
       "    <tr>\n",
       "      <th>190442</th>\n",
       "      <td>The era saw Libya's return to the internationa...</td>\n",
       "      <td>non-question</td>\n",
       "    </tr>\n",
       "  </tbody>\n",
       "</table>\n",
       "<p>190443 rows × 2 columns</p>\n",
       "</div>"
      ],
      "text/plain": [
       "                                                 sentence         label\n",
       "0       Over 90% of the world's population has access ...      question\n",
       "1       The Mona Lisa is one of the most famous painti...      question\n",
       "2       The human genome contains over 3 billion base ...      question\n",
       "3       The average person spends 6 months of their li...      question\n",
       "4       Over 90% of the world's trade is conducted thr...      question\n",
       "...                                                   ...           ...\n",
       "190438   Federal courts are solely creatures of the fe...  non-question\n",
       "190439                More than 440 blocos operate in Rio  non-question\n",
       "190440   Although they were used only for instructiona...  non-question\n",
       "190441                    8% of the population, while 68.  non-question\n",
       "190442  The era saw Libya's return to the internationa...  non-question\n",
       "\n",
       "[190443 rows x 2 columns]"
      ]
     },
     "execution_count": 3,
     "metadata": {},
     "output_type": "execute_result"
    }
   ],
   "source": [
    "sentence"
   ]
  },
  {
   "cell_type": "code",
   "execution_count": 4,
   "id": "e3a4ad19-755f-4cc6-8a1d-44df80b6b64d",
   "metadata": {},
   "outputs": [
    {
     "data": {
      "text/plain": [
       "question        117917\n",
       "non-question     72526\n",
       "Name: label, dtype: int64"
      ]
     },
     "execution_count": 4,
     "metadata": {},
     "output_type": "execute_result"
    }
   ],
   "source": [
    "sentence['label'].value_counts()"
   ]
  },
  {
   "cell_type": "markdown",
   "id": "f97f5aec-8fcc-4111-a6b1-ea3e2f5d486c",
   "metadata": {},
   "source": [
    "Check if there are any NULL values"
   ]
  },
  {
   "cell_type": "code",
   "execution_count": 5,
   "id": "d5bbd49a-376a-4bfb-9477-822c58c6840a",
   "metadata": {},
   "outputs": [
    {
     "data": {
      "text/html": [
       "<div>\n",
       "<style scoped>\n",
       "    .dataframe tbody tr th:only-of-type {\n",
       "        vertical-align: middle;\n",
       "    }\n",
       "\n",
       "    .dataframe tbody tr th {\n",
       "        vertical-align: top;\n",
       "    }\n",
       "\n",
       "    .dataframe thead th {\n",
       "        text-align: right;\n",
       "    }\n",
       "</style>\n",
       "<table border=\"1\" class=\"dataframe\">\n",
       "  <thead>\n",
       "    <tr style=\"text-align: right;\">\n",
       "      <th></th>\n",
       "      <th>sentence</th>\n",
       "      <th>label</th>\n",
       "    </tr>\n",
       "  </thead>\n",
       "  <tbody>\n",
       "    <tr>\n",
       "      <th>0</th>\n",
       "      <td>False</td>\n",
       "      <td>False</td>\n",
       "    </tr>\n",
       "    <tr>\n",
       "      <th>1</th>\n",
       "      <td>False</td>\n",
       "      <td>False</td>\n",
       "    </tr>\n",
       "    <tr>\n",
       "      <th>2</th>\n",
       "      <td>False</td>\n",
       "      <td>False</td>\n",
       "    </tr>\n",
       "    <tr>\n",
       "      <th>3</th>\n",
       "      <td>False</td>\n",
       "      <td>False</td>\n",
       "    </tr>\n",
       "    <tr>\n",
       "      <th>4</th>\n",
       "      <td>False</td>\n",
       "      <td>False</td>\n",
       "    </tr>\n",
       "    <tr>\n",
       "      <th>...</th>\n",
       "      <td>...</td>\n",
       "      <td>...</td>\n",
       "    </tr>\n",
       "    <tr>\n",
       "      <th>190438</th>\n",
       "      <td>False</td>\n",
       "      <td>False</td>\n",
       "    </tr>\n",
       "    <tr>\n",
       "      <th>190439</th>\n",
       "      <td>False</td>\n",
       "      <td>False</td>\n",
       "    </tr>\n",
       "    <tr>\n",
       "      <th>190440</th>\n",
       "      <td>False</td>\n",
       "      <td>False</td>\n",
       "    </tr>\n",
       "    <tr>\n",
       "      <th>190441</th>\n",
       "      <td>False</td>\n",
       "      <td>False</td>\n",
       "    </tr>\n",
       "    <tr>\n",
       "      <th>190442</th>\n",
       "      <td>False</td>\n",
       "      <td>False</td>\n",
       "    </tr>\n",
       "  </tbody>\n",
       "</table>\n",
       "<p>190443 rows × 2 columns</p>\n",
       "</div>"
      ],
      "text/plain": [
       "        sentence  label\n",
       "0          False  False\n",
       "1          False  False\n",
       "2          False  False\n",
       "3          False  False\n",
       "4          False  False\n",
       "...          ...    ...\n",
       "190438     False  False\n",
       "190439     False  False\n",
       "190440     False  False\n",
       "190441     False  False\n",
       "190442     False  False\n",
       "\n",
       "[190443 rows x 2 columns]"
      ]
     },
     "execution_count": 5,
     "metadata": {},
     "output_type": "execute_result"
    }
   ],
   "source": [
    "sentence.isnull()"
   ]
  },
  {
   "cell_type": "code",
   "execution_count": 6,
   "id": "cba44826-3656-4cd6-9894-555c80f0efaf",
   "metadata": {},
   "outputs": [
    {
     "data": {
      "text/plain": [
       "sentence    0\n",
       "label       0\n",
       "dtype: int64"
      ]
     },
     "execution_count": 6,
     "metadata": {},
     "output_type": "execute_result"
    }
   ],
   "source": [
    "sentence.isnull().sum()"
   ]
  },
  {
   "cell_type": "code",
   "execution_count": 7,
   "id": "2a4ec4a2-e8b4-4e44-802e-391bbcba3f6f",
   "metadata": {},
   "outputs": [
    {
     "data": {
      "text/plain": [
       "(190443, 2)"
      ]
     },
     "execution_count": 7,
     "metadata": {},
     "output_type": "execute_result"
    }
   ],
   "source": [
    "sentence.shape"
   ]
  },
  {
   "cell_type": "code",
   "execution_count": 8,
   "id": "1a204357-fb15-489d-901f-6e1f6c2bf3b3",
   "metadata": {},
   "outputs": [
    {
     "data": {
      "text/plain": [
       "array(['question', 'non-question'], dtype=object)"
      ]
     },
     "execution_count": 8,
     "metadata": {},
     "output_type": "execute_result"
    }
   ],
   "source": [
    "sentence['label'].unique()"
   ]
  },
  {
   "cell_type": "markdown",
   "id": "c1342801-1814-45c8-b702-1b3b63fec3d6",
   "metadata": {},
   "source": [
    "Label Encoding"
   ]
  },
  {
   "cell_type": "code",
   "execution_count": 9,
   "id": "92fcc738-39cf-4864-9225-1f8ee0805928",
   "metadata": {},
   "outputs": [],
   "source": [
    "label_encoder=preprocessing.LabelEncoder()\n",
    "sentence['label']=label_encoder.fit_transform(sentence['label'])"
   ]
  },
  {
   "cell_type": "code",
   "execution_count": 10,
   "id": "8c517d6d-33af-4baf-a49d-ffb78b08be45",
   "metadata": {},
   "outputs": [
    {
     "data": {
      "text/plain": [
       "array([1, 0])"
      ]
     },
     "execution_count": 10,
     "metadata": {},
     "output_type": "execute_result"
    }
   ],
   "source": [
    "sentence['label'].unique()"
   ]
  },
  {
   "cell_type": "code",
   "execution_count": 11,
   "id": "cd119513-b5df-4a12-99db-c7a295780e87",
   "metadata": {},
   "outputs": [
    {
     "data": {
      "text/html": [
       "<div>\n",
       "<style scoped>\n",
       "    .dataframe tbody tr th:only-of-type {\n",
       "        vertical-align: middle;\n",
       "    }\n",
       "\n",
       "    .dataframe tbody tr th {\n",
       "        vertical-align: top;\n",
       "    }\n",
       "\n",
       "    .dataframe thead th {\n",
       "        text-align: right;\n",
       "    }\n",
       "</style>\n",
       "<table border=\"1\" class=\"dataframe\">\n",
       "  <thead>\n",
       "    <tr style=\"text-align: right;\">\n",
       "      <th></th>\n",
       "      <th>sentence</th>\n",
       "      <th>label</th>\n",
       "    </tr>\n",
       "  </thead>\n",
       "  <tbody>\n",
       "    <tr>\n",
       "      <th>0</th>\n",
       "      <td>Over 90% of the world's population has access ...</td>\n",
       "      <td>1</td>\n",
       "    </tr>\n",
       "    <tr>\n",
       "      <th>1</th>\n",
       "      <td>The Mona Lisa is one of the most famous painti...</td>\n",
       "      <td>1</td>\n",
       "    </tr>\n",
       "    <tr>\n",
       "      <th>2</th>\n",
       "      <td>The human genome contains over 3 billion base ...</td>\n",
       "      <td>1</td>\n",
       "    </tr>\n",
       "    <tr>\n",
       "      <th>3</th>\n",
       "      <td>The average person spends 6 months of their li...</td>\n",
       "      <td>1</td>\n",
       "    </tr>\n",
       "    <tr>\n",
       "      <th>4</th>\n",
       "      <td>Over 90% of the world's trade is conducted thr...</td>\n",
       "      <td>1</td>\n",
       "    </tr>\n",
       "    <tr>\n",
       "      <th>...</th>\n",
       "      <td>...</td>\n",
       "      <td>...</td>\n",
       "    </tr>\n",
       "    <tr>\n",
       "      <th>190438</th>\n",
       "      <td>Federal courts are solely creatures of the fe...</td>\n",
       "      <td>0</td>\n",
       "    </tr>\n",
       "    <tr>\n",
       "      <th>190439</th>\n",
       "      <td>More than 440 blocos operate in Rio</td>\n",
       "      <td>0</td>\n",
       "    </tr>\n",
       "    <tr>\n",
       "      <th>190440</th>\n",
       "      <td>Although they were used only for instructiona...</td>\n",
       "      <td>0</td>\n",
       "    </tr>\n",
       "    <tr>\n",
       "      <th>190441</th>\n",
       "      <td>8% of the population, while 68.</td>\n",
       "      <td>0</td>\n",
       "    </tr>\n",
       "    <tr>\n",
       "      <th>190442</th>\n",
       "      <td>The era saw Libya's return to the internationa...</td>\n",
       "      <td>0</td>\n",
       "    </tr>\n",
       "  </tbody>\n",
       "</table>\n",
       "<p>190443 rows × 2 columns</p>\n",
       "</div>"
      ],
      "text/plain": [
       "                                                 sentence  label\n",
       "0       Over 90% of the world's population has access ...      1\n",
       "1       The Mona Lisa is one of the most famous painti...      1\n",
       "2       The human genome contains over 3 billion base ...      1\n",
       "3       The average person spends 6 months of their li...      1\n",
       "4       Over 90% of the world's trade is conducted thr...      1\n",
       "...                                                   ...    ...\n",
       "190438   Federal courts are solely creatures of the fe...      0\n",
       "190439                More than 440 blocos operate in Rio      0\n",
       "190440   Although they were used only for instructiona...      0\n",
       "190441                    8% of the population, while 68.      0\n",
       "190442  The era saw Libya's return to the internationa...      0\n",
       "\n",
       "[190443 rows x 2 columns]"
      ]
     },
     "execution_count": 11,
     "metadata": {},
     "output_type": "execute_result"
    }
   ],
   "source": [
    "sentence"
   ]
  },
  {
   "cell_type": "code",
   "execution_count": 12,
   "id": "f7ed2553-a4a8-43a8-af76-9aa595dfea84",
   "metadata": {},
   "outputs": [],
   "source": [
    "X=sentence['sentence']\n",
    "y=sentence['label']"
   ]
  },
  {
   "cell_type": "code",
   "execution_count": 13,
   "id": "c4773f4b-a765-4599-b0a1-9cb129a93b18",
   "metadata": {},
   "outputs": [
    {
     "data": {
      "text/plain": [
       "0         1\n",
       "1         1\n",
       "2         1\n",
       "3         1\n",
       "4         1\n",
       "         ..\n",
       "190438    0\n",
       "190439    0\n",
       "190440    0\n",
       "190441    0\n",
       "190442    0\n",
       "Name: label, Length: 190443, dtype: int32"
      ]
     },
     "execution_count": 13,
     "metadata": {},
     "output_type": "execute_result"
    }
   ],
   "source": [
    "y"
   ]
  },
  {
   "cell_type": "code",
   "execution_count": 14,
   "id": "d86bd372-5927-408f-8b18-55383a6ce698",
   "metadata": {},
   "outputs": [
    {
     "data": {
      "text/plain": [
       "0         Over 90% of the world's population has access ...\n",
       "1         The Mona Lisa is one of the most famous painti...\n",
       "2         The human genome contains over 3 billion base ...\n",
       "3         The average person spends 6 months of their li...\n",
       "4         Over 90% of the world's trade is conducted thr...\n",
       "                                ...                        \n",
       "190438     Federal courts are solely creatures of the fe...\n",
       "190439                  More than 440 blocos operate in Rio\n",
       "190440     Although they were used only for instructiona...\n",
       "190441                      8% of the population, while 68.\n",
       "190442    The era saw Libya's return to the internationa...\n",
       "Name: sentence, Length: 190443, dtype: object"
      ]
     },
     "execution_count": 14,
     "metadata": {},
     "output_type": "execute_result"
    }
   ],
   "source": [
    "X"
   ]
  },
  {
   "cell_type": "markdown",
   "id": "ab0cf932-d83a-446a-a382-901893d720b3",
   "metadata": {},
   "source": [
    "Split data to training and testing data"
   ]
  },
  {
   "cell_type": "code",
   "execution_count": 15,
   "id": "3fe3c8cf-777c-4fdd-bcc5-bed294318557",
   "metadata": {},
   "outputs": [],
   "source": [
    "X_train,X_test,y_train,y_test=train_test_split(X,y,test_size=0.2)"
   ]
  },
  {
   "cell_type": "code",
   "execution_count": 16,
   "id": "49acca6d-fdd4-47ba-afe1-335831e21e9e",
   "metadata": {},
   "outputs": [
    {
     "name": "stdout",
     "output_type": "stream",
     "text": [
      "(152354,)\n",
      "(38089,)\n",
      "(152354,)\n",
      "(38089,)\n"
     ]
    }
   ],
   "source": [
    "print(X_train.shape)\n",
    "print(X_test.shape )\n",
    "print(y_train.shape )\n",
    "print(y_test.shape)\n"
   ]
  },
  {
   "cell_type": "markdown",
   "id": "6f28e521-00f5-4b52-957f-e1d70646a2bc",
   "metadata": {},
   "source": [
    "Feature Extraction"
   ]
  },
  {
   "cell_type": "code",
   "execution_count": 51,
   "id": "4e9785e7-9474-45fb-be89-9ced9c5ac0e8",
   "metadata": {},
   "outputs": [],
   "source": [
    "# transforming the text data to feature vectors that can be used as the input to the logistic regression model\n",
    "\n",
    "fe = TfidfVectorizer(\n",
    "    # ngram_range=(3,3), :accuracy on test data = 0.6357741080101866 \n",
    "    # ngram_range=(2,3), :accuracy on test data =  0.8074509700963532, accuracy on training data : 0.8120364414455807\n",
    "    ngram_range=(1,3), #:accuracy on training data :  0.959449702666159, accuracy on test data :  0.9549738769723543/ 0.9537136706135629\n",
    "    # ngram_range=(1,5),  #:accuracy on training data :  0.959449702666159, accuracy on test data :  0.9550001312714957\n",
    "    # ngram_range=(1,10),#:accuracy on training data :  0.9594431390052115, accuracy on test data : 0.9550526398697787 (taking a lot of time for execution)\n",
    "    min_df=0.001, \n",
    "    max_df=1.0, \n",
    "    # stop_words='english', :accuracy on train data = around 71% and on test data = around 63%\n",
    "    analyzer='word'\n",
    ")\n",
    "\n",
    "# Removing stop words from the corpus is decreasing the accuracy of the model...may be because words like \"is\",\"are\" that carry much more importance in...\n",
    "# ..world of sentences..for example \"Are you going tomorrow?\" and \"You are going tomorrow.\"...except for the punctuation mark, all the words have same\n",
    "# frequency, but the idea of sentence depends on the placement of the word...so removing such stop words can really affect the accuracy of the model\n",
    "\n",
    "\n",
    "\n",
    "# fe=TfidfVectorizer(min_df=0, stop_words='english',lowercase='True')  :accuracy on train data = around 79% and on test data = around 74%\n",
    "\n",
    "X_trfeature=fe.fit_transform(X_train)\n",
    "X_ttfeature=fe.transform(X_test)\n",
    "\n"
   ]
  },
  {
   "cell_type": "code",
   "execution_count": 52,
   "id": "0740c872-b1b9-447d-9c7a-64fcae39cc5b",
   "metadata": {},
   "outputs": [
    {
     "name": "stdout",
     "output_type": "stream",
     "text": [
      "  (0, 639)\t0.11415057095628632\n",
      "  (0, 3795)\t0.21363532344120026\n",
      "  (0, 2401)\t0.17908905935285202\n",
      "  (0, 3713)\t0.18381368372950913\n",
      "  (0, 1688)\t0.2105233317270154\n",
      "  (0, 201)\t0.16349188003225987\n",
      "  (0, 4221)\t0.08363159941825277\n",
      "  (0, 964)\t0.21748370693856542\n",
      "  (0, 4001)\t0.36001447807110265\n",
      "  (0, 4173)\t0.0902647568160653\n",
      "  (0, 585)\t0.16451453671962976\n",
      "  (0, 606)\t0.14668438486788676\n",
      "  (0, 2883)\t0.177379666296288\n",
      "  (0, 4250)\t0.1258040831599302\n",
      "  (0, 635)\t0.08169157253390366\n",
      "  (0, 866)\t0.2083373715417566\n",
      "  (0, 3793)\t0.12732071893035246\n",
      "  (0, 223)\t0.12531233525511826\n",
      "  (0, 2400)\t0.04510064400604442\n",
      "  (0, 1613)\t0.39975911370132394\n",
      "  (0, 3917)\t0.17573154963177717\n",
      "  (0, 3411)\t0.10994759199982285\n",
      "  (0, 4018)\t0.21614061305604604\n",
      "  (0, 4033)\t0.14038903328112545\n",
      "  (0, 2831)\t0.34287002430113417\n",
      "  :\t:\n",
      "  (152352, 1623)\t0.5660337209618691\n",
      "  (152352, 3010)\t0.3225740620103107\n",
      "  (152352, 3969)\t0.15297215780102785\n",
      "  (152352, 3962)\t0.11460543736240544\n",
      "  (152352, 3744)\t0.14718304515722594\n",
      "  (152352, 1672)\t0.1427680783726547\n",
      "  (152352, 3843)\t0.09523114025736269\n",
      "  (152352, 2512)\t0.1111966147615988\n",
      "  (152352, 2496)\t0.08047536086209223\n",
      "  (152352, 3804)\t0.10756162728863829\n",
      "  (152352, 261)\t0.09477890977996926\n",
      "  (152352, 1877)\t0.0654079764054383\n",
      "  (152352, 2400)\t0.04289653993860294\n",
      "  (152352, 3411)\t0.17429061067441115\n",
      "  (152353, 442)\t0.44058576084231144\n",
      "  (152353, 1030)\t0.429010151576813\n",
      "  (152353, 3148)\t0.3767675112303137\n",
      "  (152353, 3332)\t0.410645849866441\n",
      "  (152353, 2360)\t0.31441857362228104\n",
      "  (152353, 1073)\t0.19291106593452362\n",
      "  (152353, 2525)\t0.29292099937111865\n",
      "  (152353, 270)\t0.120306545193352\n",
      "  (152353, 434)\t0.21941941107689542\n",
      "  (152353, 4093)\t0.12130013322725092\n",
      "  (152353, 1685)\t0.10973609201145322\n"
     ]
    }
   ],
   "source": [
    "print(X_trfeature)"
   ]
  },
  {
   "cell_type": "markdown",
   "id": "a0e1ccfc-db19-4b02-852a-16b57c0c87cf",
   "metadata": {},
   "source": [
    "Training the model(LOGISTIC REGRESSION)"
   ]
  },
  {
   "cell_type": "code",
   "execution_count": 53,
   "id": "6906907e-7787-4c0c-87ce-b5e37ea0e944",
   "metadata": {},
   "outputs": [],
   "source": [
    "model=LogisticRegression(solver='lbfgs', max_iter=1000)"
   ]
  },
  {
   "cell_type": "code",
   "execution_count": 54,
   "id": "25ebac81-1065-4015-a177-358d892d8343",
   "metadata": {},
   "outputs": [
    {
     "data": {
      "text/plain": [
       "LogisticRegression(max_iter=1000)"
      ]
     },
     "execution_count": 54,
     "metadata": {},
     "output_type": "execute_result"
    }
   ],
   "source": [
    "model.fit(X_trfeature,y_train)"
   ]
  },
  {
   "cell_type": "code",
   "execution_count": 55,
   "id": "59aaa6bf-06e0-4dfc-8ebe-379d81b4635d",
   "metadata": {},
   "outputs": [],
   "source": [
    "prediction=model.predict(X_trfeature)\n",
    "\n",
    "accuracy=accuracy_score(y_train,prediction)"
   ]
  },
  {
   "cell_type": "code",
   "execution_count": 56,
   "id": "0deb57d1-2a42-4a26-b564-caa0ab095301",
   "metadata": {},
   "outputs": [
    {
     "name": "stdout",
     "output_type": "stream",
     "text": [
      "accuracy on training data :  0.9592462291767856\n"
     ]
    }
   ],
   "source": [
    "print('accuracy on training data : ',accuracy)"
   ]
  },
  {
   "cell_type": "code",
   "execution_count": 57,
   "id": "9939ca5c-af09-4230-a231-aceb210a52fd",
   "metadata": {},
   "outputs": [],
   "source": [
    "prediction=model.predict(X_ttfeature)\n",
    "\n",
    "accuracy=accuracy_score(y_test,prediction)"
   ]
  },
  {
   "cell_type": "code",
   "execution_count": 58,
   "id": "8c239662-49f7-4197-9c3c-b2acceae795e",
   "metadata": {},
   "outputs": [
    {
     "name": "stdout",
     "output_type": "stream",
     "text": [
      "accuracy on test data :  0.9537136706135629\n"
     ]
    }
   ],
   "source": [
    "print('accuracy on test data : ',accuracy)"
   ]
  },
  {
   "cell_type": "code",
   "execution_count": null,
   "id": "95955ad6-e4e6-40ed-a005-a28b409b2bf5",
   "metadata": {},
   "outputs": [],
   "source": []
  }
 ],
 "metadata": {
  "kernelspec": {
   "display_name": "Python 3 (ipykernel)",
   "language": "python",
   "name": "python3"
  },
  "language_info": {
   "codemirror_mode": {
    "name": "ipython",
    "version": 3
   },
   "file_extension": ".py",
   "mimetype": "text/x-python",
   "name": "python",
   "nbconvert_exporter": "python",
   "pygments_lexer": "ipython3",
   "version": "3.9.13"
  }
 },
 "nbformat": 4,
 "nbformat_minor": 5
}

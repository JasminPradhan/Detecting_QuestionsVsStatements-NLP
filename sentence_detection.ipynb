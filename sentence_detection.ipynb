{
 "cells": [
  {
   "cell_type": "code",
   "execution_count": 87,
   "id": "f65c97cc-ae6a-4c09-aa9c-13cc09819580",
   "metadata": {},
   "outputs": [],
   "source": [
    "import numpy as np \n",
    "import pandas as pd\n",
    "import matplotlib.pyplot as plt\n",
    "from sklearn.model_selection import train_test_split\n",
    "from sklearn.feature_extraction.text import TfidfVectorizer\n",
    "from sklearn.linear_model import LogisticRegression\n",
    "from sklearn.metrics import accuracy_score\n",
    "from sklearn import preprocessing"
   ]
  },
  {
   "cell_type": "code",
   "execution_count": 88,
   "id": "035582a3-02ff-4500-a98d-84b7303d8240",
   "metadata": {},
   "outputs": [],
   "source": [
    "sentence = pd.read_csv('./data.csv')"
   ]
  },
  {
   "cell_type": "code",
   "execution_count": 89,
   "id": "1913830e-9599-46ba-a38c-511970d81f26",
   "metadata": {},
   "outputs": [
    {
     "data": {
      "text/html": [
       "<div>\n",
       "<style scoped>\n",
       "    .dataframe tbody tr th:only-of-type {\n",
       "        vertical-align: middle;\n",
       "    }\n",
       "\n",
       "    .dataframe tbody tr th {\n",
       "        vertical-align: top;\n",
       "    }\n",
       "\n",
       "    .dataframe thead th {\n",
       "        text-align: right;\n",
       "    }\n",
       "</style>\n",
       "<table border=\"1\" class=\"dataframe\">\n",
       "  <thead>\n",
       "    <tr style=\"text-align: right;\">\n",
       "      <th></th>\n",
       "      <th>sentence</th>\n",
       "      <th>label</th>\n",
       "    </tr>\n",
       "  </thead>\n",
       "  <tbody>\n",
       "    <tr>\n",
       "      <th>0</th>\n",
       "      <td>Over 90% of the world's population has access ...</td>\n",
       "      <td>question</td>\n",
       "    </tr>\n",
       "    <tr>\n",
       "      <th>1</th>\n",
       "      <td>The Mona Lisa is one of the most famous painti...</td>\n",
       "      <td>question</td>\n",
       "    </tr>\n",
       "    <tr>\n",
       "      <th>2</th>\n",
       "      <td>The human genome contains over 3 billion base ...</td>\n",
       "      <td>question</td>\n",
       "    </tr>\n",
       "    <tr>\n",
       "      <th>3</th>\n",
       "      <td>The average person spends 6 months of their li...</td>\n",
       "      <td>question</td>\n",
       "    </tr>\n",
       "    <tr>\n",
       "      <th>4</th>\n",
       "      <td>Over 90% of the world's trade is conducted thr...</td>\n",
       "      <td>question</td>\n",
       "    </tr>\n",
       "    <tr>\n",
       "      <th>...</th>\n",
       "      <td>...</td>\n",
       "      <td>...</td>\n",
       "    </tr>\n",
       "    <tr>\n",
       "      <th>190438</th>\n",
       "      <td>Federal courts are solely creatures of the fe...</td>\n",
       "      <td>non-question</td>\n",
       "    </tr>\n",
       "    <tr>\n",
       "      <th>190439</th>\n",
       "      <td>More than 440 blocos operate in Rio</td>\n",
       "      <td>non-question</td>\n",
       "    </tr>\n",
       "    <tr>\n",
       "      <th>190440</th>\n",
       "      <td>Although they were used only for instructiona...</td>\n",
       "      <td>non-question</td>\n",
       "    </tr>\n",
       "    <tr>\n",
       "      <th>190441</th>\n",
       "      <td>8% of the population, while 68.</td>\n",
       "      <td>non-question</td>\n",
       "    </tr>\n",
       "    <tr>\n",
       "      <th>190442</th>\n",
       "      <td>The era saw Libya's return to the internationa...</td>\n",
       "      <td>non-question</td>\n",
       "    </tr>\n",
       "  </tbody>\n",
       "</table>\n",
       "<p>190443 rows × 2 columns</p>\n",
       "</div>"
      ],
      "text/plain": [
       "                                                 sentence         label\n",
       "0       Over 90% of the world's population has access ...      question\n",
       "1       The Mona Lisa is one of the most famous painti...      question\n",
       "2       The human genome contains over 3 billion base ...      question\n",
       "3       The average person spends 6 months of their li...      question\n",
       "4       Over 90% of the world's trade is conducted thr...      question\n",
       "...                                                   ...           ...\n",
       "190438   Federal courts are solely creatures of the fe...  non-question\n",
       "190439                More than 440 blocos operate in Rio  non-question\n",
       "190440   Although they were used only for instructiona...  non-question\n",
       "190441                    8% of the population, while 68.  non-question\n",
       "190442  The era saw Libya's return to the internationa...  non-question\n",
       "\n",
       "[190443 rows x 2 columns]"
      ]
     },
     "execution_count": 89,
     "metadata": {},
     "output_type": "execute_result"
    }
   ],
   "source": [
    "sentence"
   ]
  },
  {
   "cell_type": "code",
   "execution_count": 90,
   "id": "e3a4ad19-755f-4cc6-8a1d-44df80b6b64d",
   "metadata": {},
   "outputs": [
    {
     "data": {
      "text/plain": [
       "question        117917\n",
       "non-question     72526\n",
       "Name: label, dtype: int64"
      ]
     },
     "execution_count": 90,
     "metadata": {},
     "output_type": "execute_result"
    }
   ],
   "source": [
    "sentence['label'].value_counts()"
   ]
  },
  {
   "cell_type": "markdown",
   "id": "f97f5aec-8fcc-4111-a6b1-ea3e2f5d486c",
   "metadata": {},
   "source": [
    "Check if there are any NULL values"
   ]
  },
  {
   "cell_type": "code",
   "execution_count": 91,
   "id": "d5bbd49a-376a-4bfb-9477-822c58c6840a",
   "metadata": {},
   "outputs": [
    {
     "data": {
      "text/html": [
       "<div>\n",
       "<style scoped>\n",
       "    .dataframe tbody tr th:only-of-type {\n",
       "        vertical-align: middle;\n",
       "    }\n",
       "\n",
       "    .dataframe tbody tr th {\n",
       "        vertical-align: top;\n",
       "    }\n",
       "\n",
       "    .dataframe thead th {\n",
       "        text-align: right;\n",
       "    }\n",
       "</style>\n",
       "<table border=\"1\" class=\"dataframe\">\n",
       "  <thead>\n",
       "    <tr style=\"text-align: right;\">\n",
       "      <th></th>\n",
       "      <th>sentence</th>\n",
       "      <th>label</th>\n",
       "    </tr>\n",
       "  </thead>\n",
       "  <tbody>\n",
       "    <tr>\n",
       "      <th>0</th>\n",
       "      <td>False</td>\n",
       "      <td>False</td>\n",
       "    </tr>\n",
       "    <tr>\n",
       "      <th>1</th>\n",
       "      <td>False</td>\n",
       "      <td>False</td>\n",
       "    </tr>\n",
       "    <tr>\n",
       "      <th>2</th>\n",
       "      <td>False</td>\n",
       "      <td>False</td>\n",
       "    </tr>\n",
       "    <tr>\n",
       "      <th>3</th>\n",
       "      <td>False</td>\n",
       "      <td>False</td>\n",
       "    </tr>\n",
       "    <tr>\n",
       "      <th>4</th>\n",
       "      <td>False</td>\n",
       "      <td>False</td>\n",
       "    </tr>\n",
       "    <tr>\n",
       "      <th>...</th>\n",
       "      <td>...</td>\n",
       "      <td>...</td>\n",
       "    </tr>\n",
       "    <tr>\n",
       "      <th>190438</th>\n",
       "      <td>False</td>\n",
       "      <td>False</td>\n",
       "    </tr>\n",
       "    <tr>\n",
       "      <th>190439</th>\n",
       "      <td>False</td>\n",
       "      <td>False</td>\n",
       "    </tr>\n",
       "    <tr>\n",
       "      <th>190440</th>\n",
       "      <td>False</td>\n",
       "      <td>False</td>\n",
       "    </tr>\n",
       "    <tr>\n",
       "      <th>190441</th>\n",
       "      <td>False</td>\n",
       "      <td>False</td>\n",
       "    </tr>\n",
       "    <tr>\n",
       "      <th>190442</th>\n",
       "      <td>False</td>\n",
       "      <td>False</td>\n",
       "    </tr>\n",
       "  </tbody>\n",
       "</table>\n",
       "<p>190443 rows × 2 columns</p>\n",
       "</div>"
      ],
      "text/plain": [
       "        sentence  label\n",
       "0          False  False\n",
       "1          False  False\n",
       "2          False  False\n",
       "3          False  False\n",
       "4          False  False\n",
       "...          ...    ...\n",
       "190438     False  False\n",
       "190439     False  False\n",
       "190440     False  False\n",
       "190441     False  False\n",
       "190442     False  False\n",
       "\n",
       "[190443 rows x 2 columns]"
      ]
     },
     "execution_count": 91,
     "metadata": {},
     "output_type": "execute_result"
    }
   ],
   "source": [
    "sentence.isnull()"
   ]
  },
  {
   "cell_type": "code",
   "execution_count": 92,
   "id": "cba44826-3656-4cd6-9894-555c80f0efaf",
   "metadata": {},
   "outputs": [
    {
     "data": {
      "text/plain": [
       "sentence    0\n",
       "label       0\n",
       "dtype: int64"
      ]
     },
     "execution_count": 92,
     "metadata": {},
     "output_type": "execute_result"
    }
   ],
   "source": [
    "sentence.isnull().sum()"
   ]
  },
  {
   "cell_type": "code",
   "execution_count": 93,
   "id": "2a4ec4a2-e8b4-4e44-802e-391bbcba3f6f",
   "metadata": {},
   "outputs": [
    {
     "data": {
      "text/plain": [
       "(190443, 2)"
      ]
     },
     "execution_count": 93,
     "metadata": {},
     "output_type": "execute_result"
    }
   ],
   "source": [
    "sentence.shape"
   ]
  },
  {
   "cell_type": "code",
   "execution_count": 94,
   "id": "1a204357-fb15-489d-901f-6e1f6c2bf3b3",
   "metadata": {},
   "outputs": [
    {
     "data": {
      "text/plain": [
       "array(['question', 'non-question'], dtype=object)"
      ]
     },
     "execution_count": 94,
     "metadata": {},
     "output_type": "execute_result"
    }
   ],
   "source": [
    "sentence['label'].unique()"
   ]
  },
  {
   "cell_type": "markdown",
   "id": "c1342801-1814-45c8-b702-1b3b63fec3d6",
   "metadata": {},
   "source": [
    "Label Encoding"
   ]
  },
  {
   "cell_type": "code",
   "execution_count": 95,
   "id": "92fcc738-39cf-4864-9225-1f8ee0805928",
   "metadata": {},
   "outputs": [],
   "source": [
    "label_encoder=preprocessing.LabelEncoder()\n",
    "sentence['label']=label_encoder.fit_transform(sentence['label'])"
   ]
  },
  {
   "cell_type": "code",
   "execution_count": 96,
   "id": "8c517d6d-33af-4baf-a49d-ffb78b08be45",
   "metadata": {},
   "outputs": [
    {
     "data": {
      "text/plain": [
       "array([1, 0])"
      ]
     },
     "execution_count": 96,
     "metadata": {},
     "output_type": "execute_result"
    }
   ],
   "source": [
    "sentence['label'].unique()"
   ]
  },
  {
   "cell_type": "code",
   "execution_count": 97,
   "id": "cd119513-b5df-4a12-99db-c7a295780e87",
   "metadata": {},
   "outputs": [
    {
     "data": {
      "text/html": [
       "<div>\n",
       "<style scoped>\n",
       "    .dataframe tbody tr th:only-of-type {\n",
       "        vertical-align: middle;\n",
       "    }\n",
       "\n",
       "    .dataframe tbody tr th {\n",
       "        vertical-align: top;\n",
       "    }\n",
       "\n",
       "    .dataframe thead th {\n",
       "        text-align: right;\n",
       "    }\n",
       "</style>\n",
       "<table border=\"1\" class=\"dataframe\">\n",
       "  <thead>\n",
       "    <tr style=\"text-align: right;\">\n",
       "      <th></th>\n",
       "      <th>sentence</th>\n",
       "      <th>label</th>\n",
       "    </tr>\n",
       "  </thead>\n",
       "  <tbody>\n",
       "    <tr>\n",
       "      <th>0</th>\n",
       "      <td>Over 90% of the world's population has access ...</td>\n",
       "      <td>1</td>\n",
       "    </tr>\n",
       "    <tr>\n",
       "      <th>1</th>\n",
       "      <td>The Mona Lisa is one of the most famous painti...</td>\n",
       "      <td>1</td>\n",
       "    </tr>\n",
       "    <tr>\n",
       "      <th>2</th>\n",
       "      <td>The human genome contains over 3 billion base ...</td>\n",
       "      <td>1</td>\n",
       "    </tr>\n",
       "    <tr>\n",
       "      <th>3</th>\n",
       "      <td>The average person spends 6 months of their li...</td>\n",
       "      <td>1</td>\n",
       "    </tr>\n",
       "    <tr>\n",
       "      <th>4</th>\n",
       "      <td>Over 90% of the world's trade is conducted thr...</td>\n",
       "      <td>1</td>\n",
       "    </tr>\n",
       "    <tr>\n",
       "      <th>...</th>\n",
       "      <td>...</td>\n",
       "      <td>...</td>\n",
       "    </tr>\n",
       "    <tr>\n",
       "      <th>190438</th>\n",
       "      <td>Federal courts are solely creatures of the fe...</td>\n",
       "      <td>0</td>\n",
       "    </tr>\n",
       "    <tr>\n",
       "      <th>190439</th>\n",
       "      <td>More than 440 blocos operate in Rio</td>\n",
       "      <td>0</td>\n",
       "    </tr>\n",
       "    <tr>\n",
       "      <th>190440</th>\n",
       "      <td>Although they were used only for instructiona...</td>\n",
       "      <td>0</td>\n",
       "    </tr>\n",
       "    <tr>\n",
       "      <th>190441</th>\n",
       "      <td>8% of the population, while 68.</td>\n",
       "      <td>0</td>\n",
       "    </tr>\n",
       "    <tr>\n",
       "      <th>190442</th>\n",
       "      <td>The era saw Libya's return to the internationa...</td>\n",
       "      <td>0</td>\n",
       "    </tr>\n",
       "  </tbody>\n",
       "</table>\n",
       "<p>190443 rows × 2 columns</p>\n",
       "</div>"
      ],
      "text/plain": [
       "                                                 sentence  label\n",
       "0       Over 90% of the world's population has access ...      1\n",
       "1       The Mona Lisa is one of the most famous painti...      1\n",
       "2       The human genome contains over 3 billion base ...      1\n",
       "3       The average person spends 6 months of their li...      1\n",
       "4       Over 90% of the world's trade is conducted thr...      1\n",
       "...                                                   ...    ...\n",
       "190438   Federal courts are solely creatures of the fe...      0\n",
       "190439                More than 440 blocos operate in Rio      0\n",
       "190440   Although they were used only for instructiona...      0\n",
       "190441                    8% of the population, while 68.      0\n",
       "190442  The era saw Libya's return to the internationa...      0\n",
       "\n",
       "[190443 rows x 2 columns]"
      ]
     },
     "execution_count": 97,
     "metadata": {},
     "output_type": "execute_result"
    }
   ],
   "source": [
    "sentence"
   ]
  },
  {
   "cell_type": "code",
   "execution_count": 98,
   "id": "f7ed2553-a4a8-43a8-af76-9aa595dfea84",
   "metadata": {},
   "outputs": [],
   "source": [
    "X=sentence['sentence']\n",
    "y=sentence['label']"
   ]
  },
  {
   "cell_type": "code",
   "execution_count": 99,
   "id": "c4773f4b-a765-4599-b0a1-9cb129a93b18",
   "metadata": {},
   "outputs": [
    {
     "data": {
      "text/plain": [
       "0         1\n",
       "1         1\n",
       "2         1\n",
       "3         1\n",
       "4         1\n",
       "         ..\n",
       "190438    0\n",
       "190439    0\n",
       "190440    0\n",
       "190441    0\n",
       "190442    0\n",
       "Name: label, Length: 190443, dtype: int32"
      ]
     },
     "execution_count": 99,
     "metadata": {},
     "output_type": "execute_result"
    }
   ],
   "source": [
    "y"
   ]
  },
  {
   "cell_type": "code",
   "execution_count": 100,
   "id": "d86bd372-5927-408f-8b18-55383a6ce698",
   "metadata": {},
   "outputs": [
    {
     "data": {
      "text/plain": [
       "0         Over 90% of the world's population has access ...\n",
       "1         The Mona Lisa is one of the most famous painti...\n",
       "2         The human genome contains over 3 billion base ...\n",
       "3         The average person spends 6 months of their li...\n",
       "4         Over 90% of the world's trade is conducted thr...\n",
       "                                ...                        \n",
       "190438     Federal courts are solely creatures of the fe...\n",
       "190439                  More than 440 blocos operate in Rio\n",
       "190440     Although they were used only for instructiona...\n",
       "190441                      8% of the population, while 68.\n",
       "190442    The era saw Libya's return to the internationa...\n",
       "Name: sentence, Length: 190443, dtype: object"
      ]
     },
     "execution_count": 100,
     "metadata": {},
     "output_type": "execute_result"
    }
   ],
   "source": [
    "X"
   ]
  },
  {
   "cell_type": "markdown",
   "id": "ab0cf932-d83a-446a-a382-901893d720b3",
   "metadata": {},
   "source": [
    "Split data to training and testing data"
   ]
  },
  {
   "cell_type": "code",
   "execution_count": 101,
   "id": "3fe3c8cf-777c-4fdd-bcc5-bed294318557",
   "metadata": {},
   "outputs": [],
   "source": [
    "X_train,X_test,y_train,y_test=train_test_split(X,y,test_size=0.2)"
   ]
  },
  {
   "cell_type": "code",
   "execution_count": 102,
   "id": "49acca6d-fdd4-47ba-afe1-335831e21e9e",
   "metadata": {},
   "outputs": [
    {
     "name": "stdout",
     "output_type": "stream",
     "text": [
      "(152354,)\n",
      "(38089,)\n",
      "(152354,)\n",
      "(38089,)\n"
     ]
    }
   ],
   "source": [
    "print(X_train.shape)\n",
    "print(X_test.shape )\n",
    "print(y_train.shape )\n",
    "print(y_test.shape)\n"
   ]
  },
  {
   "cell_type": "markdown",
   "id": "6f28e521-00f5-4b52-957f-e1d70646a2bc",
   "metadata": {},
   "source": [
    "Feature Extraction"
   ]
  },
  {
   "cell_type": "code",
   "execution_count": 103,
   "id": "4e9785e7-9474-45fb-be89-9ced9c5ac0e8",
   "metadata": {},
   "outputs": [],
   "source": [
    "# transforming the text data to feature vectors that can be used as the input to the logistic regression model\n",
    "\n",
    "fe = TfidfVectorizer(\n",
    "    # ngram_range=(3,3), :accuracy on test data = 0.6357741080101866 \n",
    "    # ngram_range=(2,3), :accuracy on test data =  0.8074509700963532, accuracy on training data : 0.8120364414455807\n",
    "    ngram_range=(1,3), #:accuracy on training data :  0.959449702666159, accuracy on test data :  0.9549738769723543/ 0.9537136706135629\n",
    "    # ngram_range=(1,5),  #:accuracy on training data :  0.959449702666159, accuracy on test data :  0.9550001312714957\n",
    "    # ngram_range=(1,10),#:accuracy on training data :  0.9594431390052115, accuracy on test data : 0.9550526398697787 (taking a lot of time for execution)\n",
    "    min_df=0.001, \n",
    "    max_df=1.0, \n",
    "    # stop_words='english', :accuracy on train data = around 71% and on test data = around 63%\n",
    "    analyzer='word'\n",
    ")\n",
    "\n",
    "# Removing stop words from the corpus is decreasing the accuracy of the model...may be because words like \"is\",\"are\" that carry much more importance in...\n",
    "# ..world of sentences..for example \"Are you going tomorrow?\" and \"You are going tomorrow.\"...except for the punctuation mark, all the words have same\n",
    "# frequency, but the idea of sentence depends on the placement of the word...so removing such stop words can really affect the accuracy of the model\n",
    "\n",
    "\n",
    "\n",
    "# fe=TfidfVectorizer(min_df=0, stop_words='english',lowercase='True')  :accuracy on train data = around 79% and on test data = around 74%\n",
    "\n",
    "X_trfeature=fe.fit_transform(X_train)\n",
    "X_ttfeature=fe.transform(X_test)\n",
    "\n"
   ]
  },
  {
   "cell_type": "code",
   "execution_count": 104,
   "id": "0740c872-b1b9-447d-9c7a-64fcae39cc5b",
   "metadata": {},
   "outputs": [
    {
     "name": "stdout",
     "output_type": "stream",
     "text": [
      "  (0, 313)\t0.24146666565910066\n",
      "  (0, 3425)\t0.27476638282815463\n",
      "  (0, 2515)\t0.1519845761248697\n",
      "  (0, 1379)\t0.28076940048191884\n",
      "  (0, 2089)\t0.27024606052094374\n",
      "  (0, 2085)\t0.22061169314409518\n",
      "  (0, 3386)\t0.2603954376646806\n",
      "  (0, 779)\t0.23530071154577087\n",
      "  (0, 1104)\t0.27024606052094374\n",
      "  (0, 4205)\t0.10902778636974746\n",
      "  (0, 3228)\t0.2656714990433299\n",
      "  (0, 273)\t0.21289673967421244\n",
      "  (0, 4242)\t0.2587573545252525\n",
      "  (0, 3794)\t0.22105604106380672\n",
      "  (0, 3301)\t0.2229477043581733\n",
      "  (0, 2401)\t0.05862691273733102\n",
      "  (0, 137)\t0.2507858272409757\n",
      "  (0, 3408)\t0.04765417307177794\n",
      "  (0, 2500)\t0.11024053423849729\n",
      "  (0, 1378)\t0.2688570893585534\n",
      "  (1, 4256)\t0.14486620658548152\n",
      "  (1, 242)\t0.16340208329103587\n",
      "  (1, 4039)\t0.0854944590188917\n",
      "  (1, 4255)\t0.1305086497111022\n",
      "  (1, 4108)\t0.17453987928897782\n",
      "  :\t:\n",
      "  (152353, 3540)\t0.2840175744131951\n",
      "  (152353, 1782)\t0.2877973857085366\n",
      "  (152353, 2301)\t0.29026344157094347\n",
      "  (152353, 2300)\t0.2573898046409311\n",
      "  (152353, 1537)\t0.25236424087180587\n",
      "  (152353, 1536)\t0.1956442818990212\n",
      "  (152353, 1910)\t0.2352765464773222\n",
      "  (152353, 3596)\t0.1997134013971227\n",
      "  (152353, 4104)\t0.1691747808556573\n",
      "  (152353, 1907)\t0.14175292496162026\n",
      "  (152353, 4100)\t0.1441059449368298\n",
      "  (152353, 2299)\t0.17720043744719313\n",
      "  (152353, 2399)\t0.2663103696608836\n",
      "  (152353, 2591)\t0.262889627178614\n",
      "  (152353, 1880)\t0.09285443948061109\n",
      "  (152353, 1920)\t0.2356690780992073\n",
      "  (152353, 1396)\t0.16346136777732084\n",
      "  (152353, 3670)\t0.24258455021228184\n",
      "  (152353, 3214)\t0.19764134527421612\n",
      "  (152353, 1769)\t0.10809368767867833\n",
      "  (152353, 4079)\t0.07412606110528817\n",
      "  (152353, 1690)\t0.06714387758093017\n",
      "  (152353, 1388)\t0.10817345721602094\n",
      "  (152353, 2401)\t0.060834345499922046\n",
      "  (152353, 3408)\t0.14834537384648905\n"
     ]
    }
   ],
   "source": [
    "print(X_trfeature)"
   ]
  },
  {
   "cell_type": "markdown",
   "id": "a0e1ccfc-db19-4b02-852a-16b57c0c87cf",
   "metadata": {},
   "source": [
    "Training the model(LOGISTIC REGRESSION)"
   ]
  },
  {
   "cell_type": "code",
   "execution_count": 105,
   "id": "6906907e-7787-4c0c-87ce-b5e37ea0e944",
   "metadata": {},
   "outputs": [],
   "source": [
    "model=LogisticRegression(solver='lbfgs', max_iter=1000)"
   ]
  },
  {
   "cell_type": "code",
   "execution_count": 106,
   "id": "25ebac81-1065-4015-a177-358d892d8343",
   "metadata": {},
   "outputs": [
    {
     "data": {
      "text/plain": [
       "LogisticRegression(max_iter=1000)"
      ]
     },
     "execution_count": 106,
     "metadata": {},
     "output_type": "execute_result"
    }
   ],
   "source": [
    "model.fit(X_trfeature,y_train)"
   ]
  },
  {
   "cell_type": "code",
   "execution_count": 107,
   "id": "59aaa6bf-06e0-4dfc-8ebe-379d81b4635d",
   "metadata": {},
   "outputs": [],
   "source": [
    "prediction=model.predict(X_trfeature)\n",
    "\n",
    "accuracy=accuracy_score(y_train,prediction)"
   ]
  },
  {
   "cell_type": "code",
   "execution_count": 108,
   "id": "0deb57d1-2a42-4a26-b564-caa0ab095301",
   "metadata": {},
   "outputs": [
    {
     "name": "stdout",
     "output_type": "stream",
     "text": [
      "accuracy on training data :  0.9592396655158382\n"
     ]
    }
   ],
   "source": [
    "print('accuracy on training data : ',accuracy)"
   ]
  },
  {
   "cell_type": "code",
   "execution_count": 109,
   "id": "9939ca5c-af09-4230-a231-aceb210a52fd",
   "metadata": {},
   "outputs": [],
   "source": [
    "prediction=model.predict(X_ttfeature)\n",
    "\n",
    "accuracy=accuracy_score(y_test,prediction)"
   ]
  },
  {
   "cell_type": "code",
   "execution_count": 110,
   "id": "8c239662-49f7-4197-9c3c-b2acceae795e",
   "metadata": {},
   "outputs": [
    {
     "name": "stdout",
     "output_type": "stream",
     "text": [
      "accuracy on test data :  0.9553676914594765\n"
     ]
    }
   ],
   "source": [
    "print('accuracy on test data : ',accuracy)"
   ]
  },
  {
   "cell_type": "markdown",
   "id": "0d08a58b-ab2c-467c-b459-5a826f0c0206",
   "metadata": {},
   "source": [
    "Decision Tree algo"
   ]
  },
  {
   "cell_type": "code",
   "execution_count": 111,
   "id": "a06d78ba-239f-40f3-b4a0-e332d9a8340d",
   "metadata": {},
   "outputs": [],
   "source": [
    "from sklearn.tree import DecisionTreeClassifier"
   ]
  },
  {
   "cell_type": "code",
   "execution_count": 119,
   "id": "eb2c2b20-7405-4efb-8db9-17ec5c6760c0",
   "metadata": {},
   "outputs": [],
   "source": [
    "treemodel=DecisionTreeClassifier(max_depth=1000)"
   ]
  },
  {
   "cell_type": "code",
   "execution_count": 120,
   "id": "2d7085e7-0a2c-4a7a-b278-4e51c8067b2c",
   "metadata": {},
   "outputs": [
    {
     "data": {
      "text/plain": [
       "DecisionTreeClassifier(max_depth=1000)"
      ]
     },
     "execution_count": 120,
     "metadata": {},
     "output_type": "execute_result"
    }
   ],
   "source": [
    "treemodel.fit(X_trfeature,y_train)"
   ]
  },
  {
   "cell_type": "code",
   "execution_count": 121,
   "id": "28e5f174-0a22-45d0-ac55-21a5cb52606d",
   "metadata": {},
   "outputs": [],
   "source": [
    "from sklearn import tree"
   ]
  },
  {
   "cell_type": "code",
   "execution_count": 122,
   "id": "097bb9f9-7e0a-43cd-8883-140637aa68c7",
   "metadata": {},
   "outputs": [],
   "source": [
    "tree_prediction=treemodel.predict(X_trfeature)\n",
    "tree_accuracy=accuracy_score(y_train,tree_prediction)"
   ]
  },
  {
   "cell_type": "code",
   "execution_count": 123,
   "id": "e49898d2-66e6-493e-a5e4-733a48855df6",
   "metadata": {},
   "outputs": [
    {
     "name": "stdout",
     "output_type": "stream",
     "text": [
      "accuracy on training data : 0.9999540543733673\n"
     ]
    }
   ],
   "source": [
    "print('accuracy on training data :',tree_accuracy)"
   ]
  },
  {
   "cell_type": "code",
   "execution_count": 124,
   "id": "e25df2de-ee73-4fce-ae90-f41b9b2ed27e",
   "metadata": {},
   "outputs": [],
   "source": [
    "tree_prediction=treemodel.predict(X_ttfeature)\n",
    "tree_accuracy=accuracy_score(y_test,tree_prediction)"
   ]
  },
  {
   "cell_type": "code",
   "execution_count": 125,
   "id": "b3a65c01-efb4-4506-9357-c1a7cb2c0407",
   "metadata": {},
   "outputs": [
    {
     "name": "stdout",
     "output_type": "stream",
     "text": [
      "accuracy on testing data : 0.9429231536664129\n"
     ]
    }
   ],
   "source": [
    "print('accuracy on testing data :',tree_accuracy)"
   ]
  },
  {
   "cell_type": "code",
   "execution_count": null,
   "id": "9116587a-7135-4281-8ce1-588aee06a250",
   "metadata": {},
   "outputs": [],
   "source": []
  },
  {
   "cell_type": "code",
   "execution_count": null,
   "id": "def0c575-6c8b-45c7-9955-a9ba014346ad",
   "metadata": {},
   "outputs": [],
   "source": []
  }
 ],
 "metadata": {
  "kernelspec": {
   "display_name": "Python 3 (ipykernel)",
   "language": "python",
   "name": "python3"
  },
  "language_info": {
   "codemirror_mode": {
    "name": "ipython",
    "version": 3
   },
   "file_extension": ".py",
   "mimetype": "text/x-python",
   "name": "python",
   "nbconvert_exporter": "python",
   "pygments_lexer": "ipython3",
   "version": "3.9.13"
  }
 },
 "nbformat": 4,
 "nbformat_minor": 5
}
